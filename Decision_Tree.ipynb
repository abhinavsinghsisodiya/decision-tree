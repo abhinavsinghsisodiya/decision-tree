{
  "nbformat": 4,
  "nbformat_minor": 0,
  "metadata": {
    "colab": {
      "provenance": []
    },
    "kernelspec": {
      "name": "python3",
      "display_name": "Python 3"
    },
    "language_info": {
      "name": "python"
    }
  },
  "cells": [
    {
      "cell_type": "markdown",
      "source": [
        "#Decision Tree"
      ],
      "metadata": {
        "id": "2JMB6wlZ4IsJ"
      }
    },
    {
      "cell_type": "markdown",
      "source": [
        "1.  What is a Decision Tree, and how does it work\n",
        "-;A decision tree is a flowchart-like diagram used to map out potential solutions to a problem and make decisions based on a set of rules. It works by breaking down a complex problem into smaller, more manageable sub-problems, each represented by a node in the tree. The tree starts with a root node and branches out based on different conditions or features, ultimately leading to leaf nodes that represent the final decisions or predictions.\n",
        "How Decision Trees Work:\n",
        "1. Training Data:\n",
        "Decision trees are trained using a dataset containing known outcomes and related variables, which is referred to as training data.\n",
        "2. Building the Tree:\n",
        "The algorithm identifies the most important features and creates splits (nodes) based on those features to create the tree.\n",
        "3. Splitting Nodes:\n",
        "Internal nodes represent attribute tests, and branches represent attribute values.\n",
        "4. Leaf Nodes:\n",
        "Leaf nodes represent the final decisions or predictions.\n",
        "5. Decision Making:\n",
        "When a new input is presented, the algorithm traverses the tree based on the input's features, following the branches until a leaf node is reached, providing the final decision.\n",
        "\n",
        "\n",
        "\n",
        "\n",
        "2. * What are impurity measures in Decision Trees\n",
        "-;Impurity measures in decision trees are metrics used to quantify the \"homogeneity\" or \"purity\" of a node within a decision tree. They help determine the best way to split a node into child nodes, aiming to create more homogenous splits, which results in a better decision tree. The most common impurity measures are Gini impurity and entropy.\n",
        "\n",
        "\n",
        "\n",
        "3. What is the mathematical formula for Gini Impurity\n",
        "-;Understanding the maths behind Gini impurity method for ...The Gini Impurity formula is: Gini Impurity = 1 - ∑ (pi)^2, where pi is the probability of each class in the node. In simpler terms, it calculates the probability of incorrectly classifying a randomly selected data point in that node.\n",
        "\n",
        "\n",
        "\n",
        "4. What is Information Gain, and how is it used in Decision Trees\n",
        "-;Information Gain (IG) is a metric used in decision tree algorithms to determine the best attribute for splitting a dataset. It measures the reduction in entropy (uncertainty) of a target variable when a specific feature is known, according to GeeksforGeeks. In essence, it quantifies how much a feature helps in classifying the data.\n",
        "Here's how Information Gain is used in decision trees:\n",
        "1. Calculating Entropy:\n",
        "Entropy measures the impurity or randomness of a dataset. A dataset with high entropy has a more mixed distribution of classes, while a dataset with low entropy is more homogeneous.\n",
        "2. Calculating Information Gain:\n",
        "Information Gain is calculated by subtracting the weighted average entropy of the child nodes (after a split) from the entropy of the parent node (before the split). A larger Information Gain indicates a more effective split, meaning the chosen feature helps reduce uncertainty in the target variable more significantly.\n",
        "3. Choosing the Best Attribute:\n",
        "During the decision tree building process, the algorithm calculates the Information Gain for each feature at each node. The feature with the highest Information Gain is selected as the splitting attribute for that node, explains Wikipedia.\n",
        "4. Building the Tree:\n",
        "This process of calculating and selecting the best splitting attribute is repeated recursively for each node until a stopping criterion is met (e.g., all data points in a node belong to the same class or a maximum tree depth is reached).\n",
        "\n",
        "\n",
        "\n",
        "6. What is the difference between Gini Impurity and Entropy\n",
        "-;Gini impurity and entropy are both metrics used to measure the impurity or randomness of a set of data, specifically in decision trees. However, they differ in their calculation and interpretation. Gini impurity measures the probability of misclassifying a randomly chosen element, while entropy measures the information content or uncertainty of a data distribution. In practice, they are often used interchangeably and tend to produce similar results, but Gini impurity is generally faster to compute.\n",
        "\n",
        "\n",
        "7. * What is the mathematical explanation behind Decision Trees\n",
        "-;Decision trees mathematically rely on splitting criteria, often based on measures like Gini impurity or entropy, to recursively partition data and build a tree-like structure for prediction. Each node in the tree represents a decision based on a feature, and the goal is to create the most homogeneous leaf nodes possible.\n",
        "\n",
        "\n",
        "\n",
        "8. What is Pre-Pruning in Decision Trees\n",
        "-;Sometimes, the growth of the decision tree can be stopped before it gets too complex, this is called pre-pruning. It is important to prevent the overfitting of the training data, which results in a poor performance when exposed to new data.\n",
        "\n",
        "Some common pre-pruning techniques include:\n",
        "\n",
        "Maximum Depth: It limits the maximum level of depth in a decision tree.\n",
        "Minimum Samples per Leaf: Set a minimum threshold for the number of samples in each leaf node.\n",
        "Minimum Samples per Split: Specify the minimal number of samples needed to break up a node.\n",
        "Maximum Features: Restrict the quantity of features considered for splitting.\n",
        "By pruning early, we come to be with a simpler tree that is less likely to overfit the training facts.\n",
        "\n",
        "\n",
        "\n",
        "9. What is Post-Pruning in Decision Trees\n",
        "-;Post-pruning in decision trees involves growing the tree fully, potentially allowing it to overfit the training data, and then removing branches that don't contribute significantly to generalization performance on unseen data. This technique, also known as cost-complexity pruning, is applied after the decision tree has been fully constructed.\n",
        "\n",
        "\n",
        "10. What is the difference between Pre-Pruning and Post-Pruning\n",
        "-;Pre-pruning and post-pruning are two techniques used to control the complexity of decision trees in machine learning. Pre-pruning, also known as early stopping, limits the growth of the tree during its construction, preventing it from becoming overly complex. Post-pruning, on the other hand, simplifies a fully grown tree by removing branches that don't significantly contribute to model performance.\n",
        "\n",
        "\n",
        "\n",
        "11.  What is a Decision Tree Regressor\n",
        "-;Implementing Regression Using a Decision Tree and Scikit ...A Decision Tree Regressor is a machine learning algorithm that uses a tree-like model to predict continuous numerical values. It's like a flowchart where each decision node asks a question about a feature, and the answers lead to further questions until a leaf node is reached, which provides the final prediction.\n",
        "\n",
        "\n",
        "\n",
        "\n",
        "12. What are the advantages and disadvantages of Decision Trees\n",
        "-;Decision trees, a versatile machine learning algorithm, offer benefits like interpretability, adaptability to various data types, and the ability to handle missing values. However, they also have drawbacks, including potential overfitting, instability, and difficulties with complex, non-linear relationships.\n",
        "Advantages:\n",
        "Interpretability: Decision trees are easy to understand and visualize, making them suitable for scenarios where transparency and human understanding are crucial.\n",
        "Versatility: They can be used for both classification and regression tasks, and they don't require extensive data preparation or scaling.\n",
        "Handles Non-Linear Relationships: Decision trees can effectively model complex, non-linear patterns in the data.\n",
        "Robust to Outliers: They are relatively insensitive to outliers in the dataset.\n",
        "Can Handle Missing Values: Decision trees can be trained and used even with missing data points.\n",
        "Disadvantages:\n",
        "Overfitting:\n",
        "Decision trees can learn the training data too well, leading to poor generalization on new, unseen data.\n",
        "Instability:\n",
        "Small changes in the training data can lead to significant variations in the tree structure and predictions.\n",
        "Bias towards Dominant Classes:\n",
        "In imbalanced datasets, decision trees may favor the majority class, leading to poor performance on minority classes.\n",
        "Difficulty with Complex, Non-Linear Relationships:\n",
        "While they excel at non-linear relationships, decision trees can struggle with complex, smooth, or continuous patterns.\n",
        "Requires Enough Data:\n",
        "Decision trees require a sufficient amount of data to learn effective splits and make accurate predictions.\n",
        "Computational Complexity:\n",
        "Building and using decision trees can be computationally expensive, especially on large datasets.\n",
        "Not Suitable for High-Dimensional Data:\n",
        "Decision trees may not be the best choice for datasets with a large number of features or variables.\n",
        "\n",
        "\n",
        "13. * How does a Decision Tree handle missing values\n",
        "-;Decision trees handle missing data by either ignoring instances with missing values, imputing them using statistical measures, or creating separate branches. During prediction, the tree follows the training strategy, applying imputation or navigating a dedicated branch for instances with missing data.\n",
        "\n",
        "\n",
        "\n",
        "14. * How does a Decision Tree handle categorical features\n",
        "-;Decision trees can handle categorical features directly, without needing to be one-hot encoded in the data preprocessing step, though some implementations, like scikit-learn, might require one-hot encoding. Instead, they can use techniques like label encoding or ordinal encoding, depending on the nature of the categorical data.\n",
        "\n",
        "\n",
        "\n",
        "15. What are some real-world applications of Decision Trees\n",
        "-;Decision trees have a wide range of real-world applications, particularly in business, finance, and healthcare. They are used for tasks like predicting customer churn, assessing credit risk, and assisting in medical diagnoses. Decision trees are also valuable in areas like marketing, manufacturing, and even predicting occupancy rates in hotels.\n",
        "\n",
        "\n",
        "\n"
      ],
      "metadata": {
        "id": "MzxMMivS4Ofn"
      }
    },
    {
      "cell_type": "markdown",
      "source": [
        "# practical"
      ],
      "metadata": {
        "id": "Vd6VLPYYg4pk"
      }
    },
    {
      "cell_type": "markdown",
      "source": [
        "16. Write a Python program to train a Decision Tree Classifier on the Iris dataset and print the model accuracy"
      ],
      "metadata": {
        "id": "100Um1ABg8Ax"
      }
    },
    {
      "cell_type": "code",
      "source": [
        "# Import necessary libraries\n",
        "from sklearn.datasets import load_iris\n",
        "from sklearn.model_selection import train_test_split\n",
        "from sklearn.tree import DecisionTreeClassifier\n",
        "from sklearn.metrics import accuracy_score\n",
        "\n",
        "# Load the Iris dataset\n",
        "iris = load_iris()\n",
        "X = iris.data\n",
        "y = iris.target\n",
        "\n",
        "# Split the dataset into training and testing sets\n",
        "X_train, X_test, y_train, y_test = train_test_split(X, y, test_size=0.2, random_state=42)\n",
        "\n",
        "# Create a Decision Tree Classifier\n",
        "clf = DecisionTreeClassifier()\n",
        "\n",
        "# Train the model\n",
        "clf.fit(X_train, y_train)\n",
        "\n",
        "# Make predictions\n",
        "y_pred = clf.predict(X_test)\n",
        "\n",
        "# Calculate and print the accuracy\n",
        "accuracy = accuracy_score(y_test, y_pred)\n",
        "print(f'Model Accuracy: {accuracy:.2f}')\n"
      ],
      "metadata": {
        "id": "0djXyCxK4VXZ",
        "colab": {
          "base_uri": "https://localhost:8080/"
        },
        "outputId": "ed84d50c-d8cc-4331-8ad3-15a97bf76d3f"
      },
      "execution_count": 1,
      "outputs": [
        {
          "output_type": "stream",
          "name": "stdout",
          "text": [
            "Model Accuracy: 1.00\n"
          ]
        }
      ]
    },
    {
      "cell_type": "markdown",
      "source": [
        "17.  Write a Python program to train a Decision Tree Classifier using Gini Impurity as the criterion and print the\n",
        "feature importances"
      ],
      "metadata": {
        "id": "UBPs9yKQhNHq"
      }
    },
    {
      "cell_type": "code",
      "source": [
        "# Decision Tree Classifier with Gini Impurity\n",
        "\n",
        "from sklearn.datasets import load_iris\n",
        "from sklearn.tree import DecisionTreeClassifier\n",
        "\n",
        "# Load dataset\n",
        "data = load_iris()\n",
        "X = data.data\n",
        "y = data.target\n",
        "\n",
        "# Create Decision Tree Classifier\n",
        "clf = DecisionTreeClassifier(criterion='gini')\n",
        "\n",
        "# Train the model\n",
        "clf.fit(X, y)\n",
        "\n",
        "# Print feature importances\n",
        "print(\"Feature Importances:\", clf.feature_importances_)\n"
      ],
      "metadata": {
        "colab": {
          "base_uri": "https://localhost:8080/"
        },
        "id": "BmqDqELthR_k",
        "outputId": "108cdf6c-d3d1-4bb2-ba15-d1173195e3fe"
      },
      "execution_count": 2,
      "outputs": [
        {
          "output_type": "stream",
          "name": "stdout",
          "text": [
            "Feature Importances: [0.01333333 0.01333333 0.55072262 0.42261071]\n"
          ]
        }
      ]
    },
    {
      "cell_type": "markdown",
      "source": [
        "18. * Write a Python program to train a Decision Tree Classifier using Entropy as the splitting criterion and print the\n",
        "model accuracy*"
      ],
      "metadata": {
        "id": "iffJ1Ru9hYML"
      }
    },
    {
      "cell_type": "code",
      "execution_count": 3,
      "metadata": {
        "id": "9vAXaccR39XO",
        "colab": {
          "base_uri": "https://localhost:8080/"
        },
        "outputId": "f6ba9d1d-9020-4172-e775-f9200e057084"
      },
      "outputs": [
        {
          "output_type": "stream",
          "name": "stdout",
          "text": [
            "Model Accuracy: 1.00\n"
          ]
        }
      ],
      "source": [
        "# Decision Tree Classifier using Entropy\n",
        "\n",
        "from sklearn.datasets import load_iris\n",
        "from sklearn.model_selection import train_test_split\n",
        "from sklearn.tree import DecisionTreeClassifier\n",
        "from sklearn.metrics import accuracy_score\n",
        "\n",
        "# Load dataset\n",
        "iris = load_iris()\n",
        "X = iris.data\n",
        "y = iris.target\n",
        "\n",
        "# Split the dataset into training and testing sets\n",
        "X_train, X_test, y_train, y_test = train_test_split(X, y, test_size=0.2, random_state=42)\n",
        "\n",
        "# Create a Decision Tree Classifier using Entropy\n",
        "clf = DecisionTreeClassifier(criterion='entropy', random_state=42)\n",
        "\n",
        "# Train the model\n",
        "clf.fit(X_train, y_train)\n",
        "\n",
        "# Make predictions\n",
        "y_pred = clf.predict(X_test)\n",
        "\n",
        "# Calculate accuracy\n",
        "accuracy = accuracy_score(y_test, y_pred)\n",
        "\n",
        "# Print model accuracy\n",
        "print(f'Model Accuracy: {accuracy:.2f}')\n"
      ]
    },
    {
      "cell_type": "markdown",
      "source": [
        "19. * Write a Python program to train a Decision Tree Regressor on a housing dataset and evaluate using Mean\n",
        "Squared Error (MSE)"
      ],
      "metadata": {
        "id": "XMKSwWR6hnuZ"
      }
    },
    {
      "cell_type": "code",
      "source": [
        "import pandas as pd\n",
        "from sklearn.model_selection import train_test_split\n",
        "from sklearn.tree import DecisionTreeRegressor\n",
        "from sklearn.metrics import mean_squared_error\n",
        "\n",
        "# Load the dataset\n",
        "data = pd.read_csv('housing_data.csv')\n",
        "\n",
        "# Define features and target variable\n",
        "X = data.drop('price', axis=1)\n",
        "y = data['price']\n",
        "\n",
        "# Split the dataset into training and testing sets\n",
        "X_train, X_test, y_train, y_test = train_test_split(X, y, test_size=0.2, random_state=42)\n",
        "\n",
        "# Create a Decision Tree Regressor model\n",
        "model = DecisionTreeRegressor()\n",
        "\n",
        "# Train the model\n",
        "model.fit(X_train, y_train)\n",
        "\n",
        "# Make predictions\n",
        "y_pred = model.predict(X_test)\n",
        "\n",
        "# Evaluate the model using Mean Squared Error\n",
        "mse = mean_squared_error(y_test, y_pred)\n",
        "print(f'Mean Squared Error: {mse}')\n"
      ],
      "metadata": {
        "id": "95PbKYvyh-KR"
      },
      "execution_count": null,
      "outputs": []
    },
    {
      "cell_type": "markdown",
      "source": [
        "20.  Write a Python program to train a Decision Tree Classifier and visualize the tree using graphviz*"
      ],
      "metadata": {
        "id": "4iSad8zziBKR"
      }
    },
    {
      "cell_type": "code",
      "source": [
        "# Decision Tree Classifier with Visualization\n",
        "\n",
        "import numpy as np\n",
        "import pandas as pd\n",
        "from sklearn.datasets import load_iris\n",
        "from sklearn.model_selection import train_test_split\n",
        "from sklearn.tree import DecisionTreeClassifier\n",
        "from sklearn import tree\n",
        "import graphviz\n",
        "\n",
        "# Load dataset\n",
        "iris = load_iris()\n",
        "X = iris.data\n",
        "y = iris.target\n",
        "\n",
        "# Split the dataset into training and testing sets\n",
        "X_train, X_test, y_train, y_test = train_test_split(X, y, test_size=0.2, random_state=42)\n",
        "\n",
        "# Create a Decision Tree Classifier\n",
        "clf = DecisionTreeClassifier(random_state=42)\n",
        "clf.fit(X_train, y_train)\n",
        "\n",
        "# Visualize the Decision Tree\n",
        "dot_data = tree.export_graphviz(clf, out_file=None,\n",
        "                                 feature_names=iris.feature_names,\n",
        "                                 class_names=iris.target_names,\n",
        "                                 filled=True, rounded=True,\n",
        "                                 special_characters=True)\n",
        "graph = graphviz.Source(dot_data)\n",
        "graph.render(\"iris_decision_tree\")  # Save the tree as a PDF file\n"
      ],
      "metadata": {
        "colab": {
          "base_uri": "https://localhost:8080/",
          "height": 35
        },
        "id": "6kb3hif7iFtC",
        "outputId": "4d30b39a-e4f2-4552-c104-4989448ca4db"
      },
      "execution_count": 5,
      "outputs": [
        {
          "output_type": "execute_result",
          "data": {
            "text/plain": [
              "'iris_decision_tree.pdf'"
            ],
            "application/vnd.google.colaboratory.intrinsic+json": {
              "type": "string"
            }
          },
          "metadata": {},
          "execution_count": 5
        }
      ]
    },
    {
      "cell_type": "markdown",
      "source": [
        "21. * Write a Python program to train a Decision Tree Classifier with a maximum depth of 3 and compare its\n",
        "accuracy with a fully grown tree"
      ],
      "metadata": {
        "id": "vXt996VViN6Y"
      }
    },
    {
      "cell_type": "code",
      "source": [
        "from sklearn.datasets import load_iris\n",
        "from sklearn.model_selection import train_test_split\n",
        "from sklearn.tree import DecisionTreeClassifier\n",
        "from sklearn.metrics import accuracy_score\n",
        "\n",
        "# Load dataset\n",
        "iris = load_iris()\n",
        "X = iris.data\n",
        "y = iris.target\n",
        "\n",
        "# Split the dataset into training and testing sets\n",
        "X_train, X_test, y_train, y_test = train_test_split(X, y, test_size=0.3, random_state=42)\n",
        "\n",
        "# Train a Decision Tree Classifier with a maximum depth of 3\n",
        "clf_depth_3 = DecisionTreeClassifier(max_depth=3, random_state=42)\n",
        "clf_depth_3.fit(X_train, y_train)\n",
        "y_pred_depth_3 = clf_depth_3.predict(X_test)\n",
        "accuracy_depth_3 = accuracy_score(y_test, y_pred_depth_3)\n",
        "\n",
        "# Train a fully grown Decision Tree Classifier\n",
        "clf_full = DecisionTreeClassifier(random_state=42)\n",
        "clf_full.fit(X_train, y_train)\n",
        "y_pred_full = clf_full.predict(X_test)\n",
        "accuracy_full = accuracy_score(y_test, y_pred_full)\n",
        "\n",
        "# Print the accuracies\n",
        "print(f'Accuracy of Decision Tree with max depth 3: {accuracy_depth_3:.2f}')\n",
        "print(f'Accuracy of fully grown Decision Tree: {accuracy_full:.2f}')\n"
      ],
      "metadata": {
        "colab": {
          "base_uri": "https://localhost:8080/"
        },
        "id": "2TjzfREriR1A",
        "outputId": "31c50daa-2fb9-465f-9813-23bb8225a5c5"
      },
      "execution_count": 6,
      "outputs": [
        {
          "output_type": "stream",
          "name": "stdout",
          "text": [
            "Accuracy of Decision Tree with max depth 3: 1.00\n",
            "Accuracy of fully grown Decision Tree: 1.00\n"
          ]
        }
      ]
    },
    {
      "cell_type": "markdown",
      "source": [
        "23. Write a Python program to train a Decision Tree Classifier using min_samples_split=5 and compare its\n",
        "accuracy with a default tree"
      ],
      "metadata": {
        "id": "2gZ4jMrKjXVu"
      }
    },
    {
      "cell_type": "code",
      "source": [
        "# Decision Tree Classifier Comparison\n",
        "\n",
        "from sklearn.datasets import load_iris\n",
        "from sklearn.model_selection import train_test_split\n",
        "from sklearn.tree import DecisionTreeClassifier\n",
        "from sklearn.metrics import accuracy_score\n",
        "\n",
        "# Load dataset\n",
        "data = load_iris()\n",
        "X = data.data\n",
        "y = data.target\n",
        "\n",
        "# Split the dataset into training and testing sets\n",
        "X_train, X_test, y_train, y_test = train_test_split(X, y, test_size=0.3, random_state=42)\n",
        "\n",
        "# Train default Decision Tree Classifier\n",
        "default_tree = DecisionTreeClassifier()\n",
        "default_tree.fit(X_train, y_train)\n",
        "y_pred_default = default_tree.predict(X_test)\n",
        "accuracy_default = accuracy_score(y_test, y_pred_default)\n",
        "\n",
        "# Train Decision Tree Classifier with min_samples_split=5\n",
        "custom_tree = DecisionTreeClassifier(min_samples_split=5)\n",
        "custom_tree.fit(X_train, y_train)\n",
        "y_pred_custom = custom_tree.predict(X_test)\n",
        "accuracy_custom = accuracy_score(y_test, y_pred_custom)\n",
        "\n",
        "# Print accuracies\n",
        "print(f\"Accuracy of default Decision Tree: {accuracy_default:.2f}\")\n",
        "print(f\"Accuracy of Decision Tree with min_samples_split=5: {accuracy_custom:.2f}\")\n"
      ],
      "metadata": {
        "colab": {
          "base_uri": "https://localhost:8080/"
        },
        "id": "uWdQ99HIjdUI",
        "outputId": "1a6864ae-97c1-4cf8-a50f-4d076bb14b1c"
      },
      "execution_count": 7,
      "outputs": [
        {
          "output_type": "stream",
          "name": "stdout",
          "text": [
            "Accuracy of default Decision Tree: 1.00\n",
            "Accuracy of Decision Tree with min_samples_split=5: 1.00\n"
          ]
        }
      ]
    },
    {
      "cell_type": "markdown",
      "source": [
        "23. Write a Python program to apply feature scaling before training a Decision Tree Classifier and compare its\n",
        "accuracy with unscaled data"
      ],
      "metadata": {
        "id": "q5UUmuOcjl4e"
      }
    },
    {
      "cell_type": "code",
      "source": [
        "# Feature Scaling with Decision Tree Classifier\n",
        "\n",
        "import numpy as np\n",
        "import pandas as pd\n",
        "from sklearn.datasets import load_iris\n",
        "from sklearn.model_selection import train_test_split\n",
        "from sklearn.tree import DecisionTreeClassifier\n",
        "from sklearn.preprocessing import StandardScaler\n",
        "from sklearn.metrics import accuracy_score\n",
        "\n",
        "# Load dataset\n",
        "data = load_iris()\n",
        "X = data.data\n",
        "y = data.target\n",
        "\n",
        "# Split the dataset into training and testing sets\n",
        "X_train, X_test, y_train, y_test = train_test_split(X, y, test_size=0.2, random_state=42)\n",
        "\n",
        "# Train Decision Tree Classifier without scaling\n",
        "clf_unscaled = DecisionTreeClassifier(random_state=42)\n",
        "clf_unscaled.fit(X_train, y_train)\n",
        "y_pred_unscaled = clf_unscaled.predict(X_test)\n",
        "accuracy_unscaled = accuracy_score(y_test, y_pred_unscaled)\n",
        "\n",
        "# Apply feature scaling\n",
        "scaler = StandardScaler()\n",
        "X_train_scaled = scaler.fit_transform(X_train)\n",
        "X_test_scaled = scaler.transform(X_test)\n",
        "\n",
        "# Train Decision Tree Classifier with scaling\n",
        "clf_scaled = DecisionTreeClassifier(random_state=42)\n",
        "clf_scaled.fit(X_train_scaled, y_train)\n",
        "y_pred_scaled = clf_scaled.predict(X_test_scaled)\n",
        "accuracy_scaled = accuracy_score(y_test, y_pred_scaled)\n",
        "\n",
        "# Print accuracies\n",
        "print(f'Accuracy without scaling: {accuracy_unscaled:.2f}')\n",
        "print(f'Accuracy with scaling: {accuracy_scaled:.2f}')\n"
      ],
      "metadata": {
        "colab": {
          "base_uri": "https://localhost:8080/"
        },
        "id": "FrPAfZ5Xjpqe",
        "outputId": "70c4d415-38a3-4520-e060-170f67ce2a12"
      },
      "execution_count": 8,
      "outputs": [
        {
          "output_type": "stream",
          "name": "stdout",
          "text": [
            "Accuracy without scaling: 1.00\n",
            "Accuracy with scaling: 1.00\n"
          ]
        }
      ]
    },
    {
      "cell_type": "markdown",
      "source": [
        "24. Write a Python program to train a Decision Tree Classifier using One-vs-Rest (OvR) strategy for multiclass\n",
        "classification*"
      ],
      "metadata": {
        "id": "JTGfetL9j4Kf"
      }
    },
    {
      "cell_type": "code",
      "source": [
        "# Decision Tree Classifier with One-vs-Rest Strategy\n",
        "\n",
        "from sklearn.datasets import load_iris\n",
        "from sklearn.tree import DecisionTreeClassifier\n",
        "from sklearn.multiclass import OneVsRestClassifier\n",
        "from sklearn.model_selection import train_test_split\n",
        "from sklearn.metrics import classification_report\n",
        "\n",
        "# Load dataset\n",
        "iris = load_iris()\n",
        "X = iris.data\n",
        "y = iris.target\n",
        "\n",
        "# Split the dataset into training and testing sets\n",
        "X_train, X_test, y_train, y_test = train_test_split(X, y, test_size=0.2, random_state=42)\n",
        "\n",
        "# Initialize the Decision Tree Classifier\n",
        "dt_classifier = DecisionTreeClassifier()\n",
        "\n",
        "# Initialize the One-vs-Rest Classifier\n",
        "ovr_classifier = OneVsRestClassifier(dt_classifier)\n",
        "\n",
        "# Train the model\n",
        "ovr_classifier.fit(X_train, y_train)\n",
        "\n",
        "# Make predictions\n",
        "y_pred = ovr_classifier.predict(X_test)\n",
        "\n",
        "# Print classification report\n",
        "print(classification_report(y_test, y_pred))\n"
      ],
      "metadata": {
        "colab": {
          "base_uri": "https://localhost:8080/"
        },
        "id": "gd4GCYx8j8d3",
        "outputId": "f27f662a-b5b7-4ebc-c0e7-1a1582f43de6"
      },
      "execution_count": 9,
      "outputs": [
        {
          "output_type": "stream",
          "name": "stdout",
          "text": [
            "              precision    recall  f1-score   support\n",
            "\n",
            "           0       1.00      1.00      1.00        10\n",
            "           1       1.00      1.00      1.00         9\n",
            "           2       1.00      1.00      1.00        11\n",
            "\n",
            "    accuracy                           1.00        30\n",
            "   macro avg       1.00      1.00      1.00        30\n",
            "weighted avg       1.00      1.00      1.00        30\n",
            "\n"
          ]
        }
      ]
    },
    {
      "cell_type": "markdown",
      "source": [
        "25. * Write a Python program to train a Decision Tree Classifier and display the feature importance scores"
      ],
      "metadata": {
        "id": "qA0RszsfkDVd"
      }
    },
    {
      "cell_type": "code",
      "source": [
        "# Decision Tree Classifier with Feature Importance\n",
        "\n",
        "import pandas as pd\n",
        "from sklearn.datasets import load_iris\n",
        "from sklearn.model_selection import train_test_split\n",
        "from sklearn.tree import DecisionTreeClassifier\n",
        "import matplotlib.pyplot as plt\n",
        "\n",
        "# Load dataset\n",
        "iris = load_iris()\n",
        "X = iris.data\n",
        "y = iris.target\n",
        "feature_names = iris.feature_names\n",
        "\n",
        "# Split the dataset\n",
        "X_train, X_test, y_train, y_test = train_test_split(X, y, test_size=0.2, random_state=42)\n",
        "\n",
        "# Train the Decision Tree Classifier\n",
        "clf = DecisionTreeClassifier(random_state=42)\n",
        "clf.fit(X_train, y_train)\n",
        "\n",
        "# Get feature importance scores\n",
        "importance_scores = clf.feature_importances_\n",
        "\n",
        "# Display feature importance\n",
        "plt.barh(feature_names, importance_scores)\n",
        "plt.xlabel('Feature Importance Score')\n",
        "plt.title('Feature Importance of Decision Tree Classifier')\n",
        "plt.show()\n"
      ],
      "metadata": {
        "colab": {
          "base_uri": "https://localhost:8080/",
          "height": 472
        },
        "id": "BTcD_43gkIN-",
        "outputId": "d374f7f5-10c8-404f-83ad-42687f98f9ba"
      },
      "execution_count": 10,
      "outputs": [
        {
          "output_type": "display_data",
          "data": {
            "text/plain": [
              "<Figure size 640x480 with 1 Axes>"
            ],
            "image/png": "[encoded data removed]"
          },
          "metadata": {}
        }
      ]
    },
    {
      "cell_type": "markdown",
      "source": [
        "26.   Write a Python program to train a Decision Tree Regressor with max_depth=5 and compare its performance\n",
        "with an unrestricted tree*\n",
        "\n"
      ],
      "metadata": {
        "id": "l7fjatiQkO9e"
      }
    },
    {
      "cell_type": "code",
      "source": [
        "# Decision Tree Regressor Comparison\n",
        "\n",
        "import numpy as np\n",
        "import pandas as pd\n",
        "from sklearn.datasets import make_regression\n",
        "from sklearn.model_selection import train_test_split\n",
        "from sklearn.tree import DecisionTreeRegressor\n",
        "from sklearn.metrics import mean_squared_error\n",
        "\n",
        "# Generate synthetic regression data\n",
        "X, y = make_regression(n_samples=1000, n_features=10, noise=0.1, random_state=42)\n",
        "\n",
        "# Split the data into training and testing sets\n",
        "X_train, X_test, y_train, y_test = train_test_split(X, y, test_size=0.2, random_state=42)\n",
        "\n",
        "# Train Decision Tree Regressor with max_depth=5\n",
        "tree_limited = DecisionTreeRegressor(max_depth=5, random_state=42)\n",
        "tree_limited.fit(X_train, y_train)\n",
        "y_pred_limited = tree_limited.predict(X_test)\n",
        "mse_limited = mean_squared_error(y_test, y_pred_limited)\n",
        "\n",
        "# Train unrestricted Decision Tree Regressor\n",
        "tree_unrestricted = DecisionTreeRegressor(random_state=42)\n",
        "tree_unrestricted.fit(X_train, y_train)\n",
        "y_pred_unrestricted = tree_unrestricted.predict(X_test)\n",
        "mse_unrestricted = mean_squared_error(y_test, y_pred_unrestricted)\n",
        "\n",
        "# Print the Mean Squared Errors\n",
        "print(f'MSE with max_depth=5: {mse_limited}')\n",
        "print(f'MSE with unrestricted tree: {mse_unrestricted}')\n"
      ],
      "metadata": {
        "colab": {
          "base_uri": "https://localhost:8080/"
        },
        "id": "M7iL1ZCIkfPN",
        "outputId": "a3550d3c-79c8-4b44-f7ac-804a04eb7305"
      },
      "execution_count": 11,
      "outputs": [
        {
          "output_type": "stream",
          "name": "stdout",
          "text": [
            "MSE with max_depth=5: 6512.19821678051\n",
            "MSE with unrestricted tree: 6350.427786748267\n"
          ]
        }
      ]
    },
    {
      "cell_type": "markdown",
      "source": [
        "27. Write a Python program to train a Decision Tree Classifier, apply Cost Complexity Pruning (CCP), and\n",
        "visualize its effect on accuracy*"
      ],
      "metadata": {
        "id": "dKRHCZZkksck"
      }
    },
    {
      "cell_type": "code",
      "source": [
        "# Decision Tree Classifier with Cost Complexity Pruning\n",
        "\n",
        "import numpy as np\n",
        "import pandas as pd\n",
        "from sklearn.datasets import load_iris\n",
        "from sklearn.model_selection import train_test_split\n",
        "from sklearn.tree import DecisionTreeClassifier\n",
        "from sklearn.metrics import accuracy_score\n",
        "import matplotlib.pyplot as plt\n",
        "\n",
        "# Load dataset\n",
        "data = load_iris()\n",
        "X = data.data\n",
        "y = data.target\n",
        "\n",
        "# Split the dataset\n",
        "X_train, X_test, y_train, y_test = train_test_split(X, y, test_size=0.3, random_state=42)\n",
        "\n",
        "# Train Decision Tree Classifier\n",
        "clf = DecisionTreeClassifier(random_state=42)\n",
        "clf.fit(X_train, y_train)\n",
        "\n",
        "# Get the accuracy before pruning\n",
        "y_pred = clf.predict(X_test)\n",
        "accuracy_before = accuracy_score(y_test, y_pred)\n",
        "\n",
        "# Apply Cost Complexity Pruning\n",
        "path = clf.cost_complexity_pruning_path(X_train, y_train)\n",
        "ccp_alphas = path.ccp_alphas\n",
        "clfs = []\n",
        "\n",
        "for ccp_alpha in ccp_alphas:\n",
        "    clf = DecisionTreeClassifier(random_state=42, ccp_alpha=ccp_alpha)\n",
        "    clf.fit(X_train, y_train)\n",
        "    clfs.append(clf)\n",
        "\n",
        "# Calculate accuracy for each alpha\n",
        "accuracies = [accuracy_score(y_test, clf.predict(X_test)) for clf in clfs]\n",
        "\n",
        "# Plotting the results\n",
        "plt.figure(figsize=(10, 6))\n",
        "plt.plot(ccp_alphas, accuracies, marker='o', label='Accuracy vs ccp_alpha')\n",
        "plt.title('Effect of Cost Complexity Pruning on Accuracy')\n",
        "plt.xlabel('ccp_alpha')\n",
        "plt.ylabel('Accuracy')\n",
        "plt.grid()\n",
        "plt.legend()\n",
        "plt.show()\n",
        "\n",
        "# Print accuracy before pruning\n",
        "print(f'Accuracy before pruning: {accuracy_before:.4f}')\n"
      ],
      "metadata": {
        "colab": {
          "base_uri": "https://localhost:8080/",
          "height": 581
        },
        "id": "k1vNf3zekwq2",
        "outputId": "9cb2e3ac-2d4b-4e44-e49b-8bb860466359"
      },
      "execution_count": 12,
      "outputs": [
        {
          "output_type": "display_data",
          "data": {
            "text/plain": [
              "<Figure size 1000x600 with 1 Axes>"
            ],
            "image/png": "[encoded data removed]"
          },
          "metadata": {}
        },
        {
          "output_type": "stream",
          "name": "stdout",
          "text": [
            "Accuracy before pruning: 1.0000\n"
          ]
        }
      ]
    },
    {
      "cell_type": "markdown",
      "source": [
        "28.  Write a Python program to train a Decision Tree Classifier and evaluate its performance using Precision,\n",
        "Recall, and F1-Score"
      ],
      "metadata": {
        "id": "s6EX_4NPk4bM"
      }
    },
    {
      "cell_type": "code",
      "source": [
        "# Decision Tree Classifier Training and Evaluation\n",
        "\n",
        "from sklearn.datasets import load_iris\n",
        "from sklearn.model_selection import train_test_split\n",
        "from sklearn.tree import DecisionTreeClassifier\n",
        "from sklearn.metrics import precision_score, recall_score, f1_score\n",
        "\n",
        "# Load dataset\n",
        "data = load_iris()\n",
        "X = data.data\n",
        "y = data.target\n",
        "\n",
        "# Split the dataset into training and testing sets\n",
        "X_train, X_test, y_train, y_test = train_test_split(X, y, test_size=0.2, random_state=42)\n",
        "\n",
        "# Initialize the Decision Tree Classifier\n",
        "clf = DecisionTreeClassifier()\n",
        "\n",
        "# Train the classifier\n",
        "clf.fit(X_train, y_train)\n",
        "\n",
        "# Make predictions\n",
        "y_pred = clf.predict(X_test)\n",
        "\n",
        "# Evaluate performance\n",
        "precision = precision_score(y_test, y_pred, average='weighted')\n",
        "recall = recall_score(y_test, y_pred, average='weighted')\n",
        "f1 = f1_score(y_test, y_pred, average='weighted')\n",
        "\n",
        "# Print the evaluation metrics\n",
        "print(f'Precision: {precision:.2f}')\n",
        "print(f'Recall: {recall:.2f}')\n",
        "print(f'F1-Score: {f1:.2f}')\n"
      ],
      "metadata": {
        "colab": {
          "base_uri": "https://localhost:8080/"
        },
        "id": "X1Lv4xi_k9N9",
        "outputId": "0efe0338-76d4-4aaf-ff68-08a40acb95db"
      },
      "execution_count": 13,
      "outputs": [
        {
          "output_type": "stream",
          "name": "stdout",
          "text": [
            "Precision: 1.00\n",
            "Recall: 1.00\n",
            "F1-Score: 1.00\n"
          ]
        }
      ]
    },
    {
      "cell_type": "markdown",
      "source": [
        "29. Write a Python program to train a Decision Tree Classifier and visualize the confusion matrix using seaborn*"
      ],
      "metadata": {
        "id": "q6AJmVyHlFxk"
      }
    },
    {
      "cell_type": "code",
      "source": [
        "# Decision Tree Classifier with Confusion Matrix Visualization\n",
        "\n",
        "import numpy as np\n",
        "import pandas as pd\n",
        "from sklearn.datasets import load_iris\n",
        "from sklearn.model_selection import train_test_split\n",
        "from sklearn.tree import DecisionTreeClassifier\n",
        "from sklearn.metrics import confusion_matrix\n",
        "import seaborn as sns\n",
        "import matplotlib.pyplot as plt\n",
        "\n",
        "# Load dataset\n",
        "iris = load_iris()\n",
        "X = iris.data\n",
        "y = iris.target\n",
        "\n",
        "# Split the dataset\n",
        "X_train, X_test, y_train, y_test = train_test_split(X, y, test_size=0.2, random_state=42)\n",
        "\n",
        "# Train the Decision Tree Classifier\n",
        "clf = DecisionTreeClassifier()\n",
        "clf.fit(X_train, y_train)\n",
        "\n",
        "# Make predictions\n",
        "y_pred = clf.predict(X_test)\n",
        "\n",
        "# Generate confusion matrix\n",
        "cm = confusion_matrix(y_test, y_pred)\n",
        "\n",
        "# Visualize confusion matrix\n",
        "plt.figure(figsize=(8, 6))\n",
        "sns.heatmap(cm, annot=True, fmt='d', cmap='Blues', xticklabels=iris.target_names, yticklabels=iris.target_names)\n",
        "plt.ylabel('Actual')\n",
        "plt.xlabel('Predicted')\n",
        "plt.title('Confusion Matrix')\n",
        "plt.show()\n"
      ],
      "metadata": {
        "colab": {
          "base_uri": "https://localhost:8080/",
          "height": 564
        },
        "id": "Z1xhnKX3lM18",
        "outputId": "b7c9e56c-797f-4d9a-a034-a1a1aaf005aa"
      },
      "execution_count": 14,
      "outputs": [
        {
          "output_type": "display_data",
          "data": {
            "text/plain": [
              "<Figure size 800x600 with 2 Axes>"
            ],
            "image/png": "[encoded data removed]"
          },
          "metadata": {}
        }
      ]
    },
    {
      "cell_type": "markdown",
      "source": [
        "30. Write a Python program to train a Decision Tree Classifier and use GridSearchCV to find the optimal values\n",
        "for max_depth and min_samples_split"
      ],
      "metadata": {
        "id": "u9_ZUtsolU-c"
      }
    },
    {
      "cell_type": "code",
      "source": [
        "# Decision Tree Classifier with GridSearchCV\n",
        "\n",
        "import numpy as np\n",
        "import pandas as pd\n",
        "from sklearn.datasets import load_iris\n",
        "from sklearn.model_selection import train_test_split, GridSearchCV\n",
        "from sklearn.tree import DecisionTreeClassifier\n",
        "\n",
        "# Load dataset\n",
        "data = load_iris()\n",
        "X = data.data\n",
        "y = data.target\n",
        "\n",
        "# Split the dataset\n",
        "X_train, X_test, y_train, y_test = train_test_split(X, y, test_size=0.2, random_state=42)\n",
        "\n",
        "# Create a Decision Tree Classifier\n",
        "dt_classifier = DecisionTreeClassifier()\n",
        "\n",
        "# Set the parameters for GridSearchCV\n",
        "param_grid = {\n",
        "    'max_depth': [None, 1, 2, 3, 4, 5],\n",
        "    'min_samples_split': [2, 3, 4, 5, 6]\n",
        "}\n",
        "\n",
        "# Create GridSearchCV\n",
        "grid_search = GridSearchCV(estimator=dt_classifier, param_grid=param_grid, cv=5)\n",
        "\n",
        "# Fit the model\n",
        "grid_search.fit(X_train, y_train)\n",
        "\n",
        "# Best parameters\n",
        "print(\"Best parameters found: \", grid_search.best_params_)\n"
      ],
      "metadata": {
        "colab": {
          "base_uri": "https://localhost:8080/"
        },
        "id": "fHJ-XnxSleQU",
        "outputId": "9b348b74-6c3d-4f21-e1b9-4d10ab8955cf"
      },
      "execution_count": 15,
      "outputs": [
        {
          "output_type": "stream",
          "name": "stdout",
          "text": [
            "Best parameters found:  {'max_depth': None, 'min_samples_split': 2}\n"
          ]
        }
      ]
    }
  ]
}